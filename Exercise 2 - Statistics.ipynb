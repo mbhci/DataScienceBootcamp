{
 "cells": [
  {
   "cell_type": "code",
   "execution_count": 3,
   "metadata": {},
   "outputs": [],
   "source": [
    "import pandas as pd\n",
    "import numpy as np\n",
    "from random import sample "
   ]
  },
  {
   "cell_type": "code",
   "execution_count": 102,
   "metadata": {},
   "outputs": [],
   "source": [
    "df = pd.read_excel('D:\\Data Science Bootcamp\\Day 5\\dataset\\data loan.xlsx')"
   ]
  },
  {
   "cell_type": "code",
   "execution_count": 103,
   "metadata": {},
   "outputs": [],
   "source": [
    "## import copy\n",
    "## df_edit = copy.deepcopy(df)\n",
    "## df_edit['NPF'] = df_edit.NPF.map({'Ya':1,\n",
    "##                                   'Tidak':0})"
   ]
  },
  {
   "cell_type": "code",
   "execution_count": 104,
   "metadata": {},
   "outputs": [],
   "source": [
    "ln_income = np.log(df.Income)\n",
    "ln_income.head()\n",
    "df['ln_income'] = ln_income"
   ]
  },
  {
   "cell_type": "code",
   "execution_count": 105,
   "metadata": {},
   "outputs": [
    {
     "name": "stdout",
     "output_type": "stream",
     "text": [
      "       Kontrak   Tipe_Kendaraan   Pekerjaan      Area  Tenor  \\\n",
      "18006    18007          MINIBUS  Wiraswasta      Jawa     36   \n",
      "22674    22675             LCGC  Wiraswasta    Others     60   \n",
      "26638    26639  TRUCK & PICK UP  Wiraswasta  Sumatera     48   \n",
      "18181    18182             LCGC  Wiraswasta  Sumatera     60   \n",
      "\n",
      "      Bucket_Collectability    NPF    Total_AR     LTV     OTR  ...      AF  \\\n",
      "18006           0 - 30 hari  Tidak  210.758771   74.52  253.95  ...  189.24   \n",
      "22674           0 - 30 hari  Tidak  272.159996  102.39  175.15  ...  179.34   \n",
      "26638            > 150 hari     Ya  367.169018   76.91  327.00  ...  251.49   \n",
      "18181           0 - 30 hari  Tidak  212.280002   97.47  133.80  ...  130.42   \n",
      "\n",
      "        Tujuan  Pendidikan  Tanggungan   Status     Gender  Paket Inflasi  \\\n",
      "18006  Private      Others         Ada   OTHERS  Perempuan  Tidak    8.61   \n",
      "22674  Private      Others         Ada  MENIKAH  Perempuan     Ya    3.72   \n",
      "26638   Others      Others         Ada   OTHERS  Laki-laki  Tidak    4.53   \n",
      "18181  Private     Sarjana   Tidak ada   OTHERS  Laki-laki     Ya    3.45   \n",
      "\n",
      "                   Segmen ln_income  \n",
      "18006  Jasa & Perdagangan  2.995732  \n",
      "22674  Jasa & Perdagangan  1.945910  \n",
      "26638              Others  3.912023  \n",
      "18181  Jasa & Perdagangan  2.708050  \n",
      "\n",
      "[4 rows x 24 columns]\n"
     ]
    }
   ],
   "source": [
    "# Random sampling - Random n rows\n",
    "df_elements = df.sample(n=4)\n",
    "print(df_elements)"
   ]
  },
  {
   "cell_type": "code",
   "execution_count": 106,
   "metadata": {},
   "outputs": [
    {
     "name": "stdout",
     "output_type": "stream",
     "text": [
      "       Kontrak   Tipe_Kendaraan   Pekerjaan      Area  Tenor  \\\n",
      "13596    13597          MINIBUS    Karyawan      Jawa     48   \n",
      "21164    21165          MINIBUS  Wiraswasta    Others     48   \n",
      "20218    20219          MINIBUS  Wiraswasta    Others     36   \n",
      "6362      6363          MINIBUS    Karyawan  Sumatera     24   \n",
      "19909    19910           OTHERS    Karyawan      Jawa     48   \n",
      "...        ...              ...         ...       ...    ...   \n",
      "11219    11220          MINIBUS    Karyawan  Sumatera     48   \n",
      "24106    24107          MINIBUS  Wiraswasta      Jawa     60   \n",
      "25384    25385          MINIBUS    Karyawan      Jawa     48   \n",
      "12561    12562          MINIBUS    Karyawan      Jawa     48   \n",
      "27100    27101  TRUCK & PICK UP  Wiraswasta    Others     48   \n",
      "\n",
      "      Bucket_Collectability    NPF    Total_AR    LTV     OTR  ...      AF  \\\n",
      "13596           0 - 30 hari  Tidak  175.488001  83.40  165.16  ...  137.74   \n",
      "21164       >120 - 150 hari     Ya  246.288004  86.02  220.55  ...  189.73   \n",
      "20218        >90 - 120 hari     Ya  232.704001  83.54  227.60  ...  190.14   \n",
      "6362            0 - 30 hari  Tidak   84.024001  46.94  162.10  ...   76.09   \n",
      "19909            > 150 hari     Ya  229.296003  92.21  179.45  ...  165.47   \n",
      "...                     ...    ...         ...    ...     ...  ...     ...   \n",
      "11219       >120 - 150 hari     Ya  155.975445  76.72  165.50  ...  126.97   \n",
      "24106           0 - 30 hari  Tidak  294.899999  93.79  207.05  ...  194.19   \n",
      "25384           0 - 30 hari  Tidak  323.272813  82.85  303.40  ...  251.38   \n",
      "12561           0 - 30 hari  Tidak  167.461757  79.30  173.10  ...  137.26   \n",
      "27100           0 - 30 hari  Tidak  396.116579  80.79  353.95  ...  285.96   \n",
      "\n",
      "        Tujuan  Pendidikan  Tanggungan   Status     Gender  Paket Inflasi  \\\n",
      "13596  Private     Sarjana   Tidak ada   OTHERS  Perempuan  Tidak    8.36   \n",
      "21164  Private      Others         Ada   OTHERS  Laki-laki  Tidak    3.45   \n",
      "20218  Private      Others         Ada   OTHERS  Laki-laki     Ya    6.38   \n",
      "6362   Private     Sarjana   Tidak ada   OTHERS  Laki-laki  Tidak    8.36   \n",
      "19909  Private      Others   Tidak ada  MENIKAH  Perempuan     Ya    3.45   \n",
      "...        ...         ...         ...      ...        ...    ...     ...   \n",
      "11219  Private      Others         Ada   OTHERS  Laki-laki     Ya    5.47   \n",
      "24106   Others     Sarjana   Tidak ada   OTHERS  Perempuan     Ya    3.60   \n",
      "25384  Private     Sarjana         Ada  MENIKAH  Laki-laki  Tidak    4.83   \n",
      "12561  Private     Sarjana         Ada   OTHERS  Laki-laki  Tidak    8.79   \n",
      "27100  Private      Others         Ada   OTHERS  Laki-laki  Tidak    8.40   \n",
      "\n",
      "                   Segmen ln_income  \n",
      "13596  Jasa & Perdagangan  2.302585  \n",
      "21164  Jasa & Perdagangan  2.995732  \n",
      "20218  Jasa & Perdagangan  3.218876  \n",
      "6362   Jasa & Perdagangan  2.995732  \n",
      "19909  Jasa & Perdagangan  2.772589  \n",
      "...                   ...       ...  \n",
      "11219              Others  2.302585  \n",
      "24106  Jasa & Perdagangan  2.708050  \n",
      "25384  Jasa & Perdagangan  3.688879  \n",
      "12561              Others  2.484907  \n",
      "27100  Jasa & Perdagangan  3.912023  \n",
      "\n",
      "[22634 rows x 24 columns]\n"
     ]
    }
   ],
   "source": [
    "# Random sampling - Random n% rows\n",
    "df_80pct = df.sample(frac=0.8)\n",
    "print(df_80pct)"
   ]
  },
  {
   "cell_type": "code",
   "execution_count": 107,
   "metadata": {},
   "outputs": [
    {
     "name": "stdout",
     "output_type": "stream",
     "text": [
      "<class 'pandas.core.frame.DataFrame'>\n",
      "Int64Index: 22634 entries, 13596 to 27100\n",
      "Data columns (total 24 columns):\n",
      "Kontrak                  22634 non-null int64\n",
      "Tipe_Kendaraan           22634 non-null object\n",
      "Pekerjaan                22634 non-null object\n",
      "Area                     22634 non-null object\n",
      "Tenor                    22634 non-null int64\n",
      "Bucket_Collectability    22634 non-null object\n",
      "NPF                      22634 non-null object\n",
      "Total_AR                 22634 non-null float64\n",
      "LTV                      22634 non-null float64\n",
      "OTR                      22634 non-null float64\n",
      "Age                      22634 non-null int64\n",
      "Interest_Rate            22634 non-null float64\n",
      "Income                   22634 non-null int64\n",
      "DP                       22634 non-null float64\n",
      "AF                       22634 non-null float64\n",
      "Tujuan                   22634 non-null object\n",
      "Pendidikan               22634 non-null object\n",
      "Tanggungan               22634 non-null object\n",
      "Status                   22634 non-null object\n",
      "Gender                   22634 non-null object\n",
      "Paket                    22634 non-null object\n",
      "Inflasi                  22634 non-null float64\n",
      "Segmen                   22634 non-null object\n",
      "ln_income                22634 non-null float64\n",
      "dtypes: float64(8), int64(4), object(12)\n",
      "memory usage: 4.3+ MB\n"
     ]
    }
   ],
   "source": [
    "df_80pct.info()"
   ]
  },
  {
   "cell_type": "code",
   "execution_count": 108,
   "metadata": {},
   "outputs": [],
   "source": [
    "import statsmodels.formula.api as smf"
   ]
  },
  {
   "cell_type": "code",
   "execution_count": 112,
   "metadata": {},
   "outputs": [
    {
     "name": "stdout",
     "output_type": "stream",
     "text": [
      "                            OLS Regression Results                            \n",
      "==============================================================================\n",
      "Dep. Variable:               Total_AR   R-squared:                       0.003\n",
      "Model:                            OLS   Adj. R-squared:                  0.003\n",
      "Method:                 Least Squares   F-statistic:                     69.89\n",
      "Date:                Fri, 25 Oct 2019   Prob (F-statistic):           6.62e-17\n",
      "Time:                        17:46:20   Log-Likelihood:            -1.3347e+05\n",
      "No. Observations:               22634   AIC:                         2.670e+05\n",
      "Df Residuals:                   22632   BIC:                         2.670e+05\n",
      "Df Model:                           1                                         \n",
      "Covariance Type:            nonrobust                                         \n",
      "==============================================================================\n",
      "                 coef    std err          t      P>|t|      [0.025      0.975]\n",
      "------------------------------------------------------------------------------\n",
      "Intercept    213.8293      0.596    359.055      0.000     212.662     214.997\n",
      "Income         0.0448      0.005      8.360      0.000       0.034       0.055\n",
      "==============================================================================\n",
      "Omnibus:                     9482.810   Durbin-Watson:                   1.985\n",
      "Prob(Omnibus):                  0.000   Jarque-Bera (JB):           148686.619\n",
      "Skew:                           1.599   Prob(JB):                         0.00\n",
      "Kurtosis:                      15.142   Cond. No.                         113.\n",
      "==============================================================================\n",
      "\n",
      "Warnings:\n",
      "[1] Standard Errors assume that the covariance matrix of the errors is correctly specified.\n"
     ]
    }
   ],
   "source": [
    "ols_df_80pct = smf.ols('Total_AR ~ Income', data = df_80pct).fit()\n",
    "print(ols_df_80pct.summary())"
   ]
  },
  {
   "cell_type": "code",
   "execution_count": 113,
   "metadata": {},
   "outputs": [
    {
     "name": "stdout",
     "output_type": "stream",
     "text": [
      "                            OLS Regression Results                            \n",
      "==============================================================================\n",
      "Dep. Variable:               Total_AR   R-squared:                       0.040\n",
      "Model:                            OLS   Adj. R-squared:                  0.040\n",
      "Method:                 Least Squares   F-statistic:                     944.2\n",
      "Date:                Fri, 25 Oct 2019   Prob (F-statistic):          3.53e-203\n",
      "Time:                        17:46:23   Log-Likelihood:            -1.3305e+05\n",
      "No. Observations:               22634   AIC:                         2.661e+05\n",
      "Df Residuals:                   22632   BIC:                         2.661e+05\n",
      "Df Model:                           1                                         \n",
      "Covariance Type:            nonrobust                                         \n",
      "==============================================================================\n",
      "                 coef    std err          t      P>|t|      [0.025      0.975]\n",
      "------------------------------------------------------------------------------\n",
      "Intercept    149.8307      2.189     68.441      0.000     145.540     154.122\n",
      "ln_income     24.7186      0.804     30.728      0.000      23.142      26.295\n",
      "==============================================================================\n",
      "Omnibus:                     8893.491   Durbin-Watson:                   1.983\n",
      "Prob(Omnibus):                  0.000   Jarque-Bera (JB):           139332.625\n",
      "Skew:                           1.468   Prob(JB):                         0.00\n",
      "Kurtosis:                      14.795   Cond. No.                         11.7\n",
      "==============================================================================\n",
      "\n",
      "Warnings:\n",
      "[1] Standard Errors assume that the covariance matrix of the errors is correctly specified.\n"
     ]
    }
   ],
   "source": [
    "ols_df_80pct = smf.ols('Total_AR ~ ln_income', data = df_80pct).fit()\n",
    "print(ols_df_80pct.summary())"
   ]
  },
  {
   "cell_type": "markdown",
   "metadata": {},
   "source": [
    "# I tried to compare the Income variable and ln_income variable to see if the log(income) affects the model or not. It turns out the logarithmic income does not affect so much, but the model is little better.\n",
    "### The R-Squared for Income is 0.003\n",
    "### The R-Squared for ln_income is 0.04 (a little bit stronger)"
   ]
  },
  {
   "cell_type": "code",
   "execution_count": 114,
   "metadata": {},
   "outputs": [
    {
     "name": "stdout",
     "output_type": "stream",
     "text": [
      "                            OLS Regression Results                            \n",
      "==============================================================================\n",
      "Dep. Variable:               Total_AR   R-squared:                       0.538\n",
      "Model:                            OLS   Adj. R-squared:                  0.538\n",
      "Method:                 Least Squares   F-statistic:                 2.633e+04\n",
      "Date:                Fri, 25 Oct 2019   Prob (F-statistic):               0.00\n",
      "Time:                        17:49:21   Log-Likelihood:            -1.2478e+05\n",
      "No. Observations:               22634   AIC:                         2.496e+05\n",
      "Df Residuals:                   22632   BIC:                         2.496e+05\n",
      "Df Model:                           1                                         \n",
      "Covariance Type:            nonrobust                                         \n",
      "==============================================================================\n",
      "                 coef    std err          t      P>|t|      [0.025      0.975]\n",
      "------------------------------------------------------------------------------\n",
      "Intercept     49.0633      1.096     44.759      0.000      46.915      51.212\n",
      "OTR            0.8105      0.005    162.254      0.000       0.801       0.820\n",
      "==============================================================================\n",
      "Omnibus:                     3283.774   Durbin-Watson:                   1.977\n",
      "Prob(Omnibus):                  0.000   Jarque-Bera (JB):            13090.538\n",
      "Skew:                          -0.682   Prob(JB):                         0.00\n",
      "Kurtosis:                       6.467   Cond. No.                         603.\n",
      "==============================================================================\n",
      "\n",
      "Warnings:\n",
      "[1] Standard Errors assume that the covariance matrix of the errors is correctly specified.\n"
     ]
    }
   ],
   "source": [
    "ols_df_80pct = smf.ols('Total_AR ~ OTR', data = df_80pct).fit()\n",
    "print(ols_df_80pct.summary())"
   ]
  },
  {
   "cell_type": "markdown",
   "metadata": {},
   "source": [
    "# The OTR variable makes the model way stronger than the ln_income variable itself, with the R-Squared of 0.538.\n"
   ]
  },
  {
   "cell_type": "code",
   "execution_count": 115,
   "metadata": {},
   "outputs": [
    {
     "name": "stdout",
     "output_type": "stream",
     "text": [
      "                            OLS Regression Results                            \n",
      "==============================================================================\n",
      "Dep. Variable:               Total_AR   R-squared:                       0.913\n",
      "Model:                            OLS   Adj. R-squared:                  0.913\n",
      "Method:                 Least Squares   F-statistic:                 2.362e+05\n",
      "Date:                Fri, 25 Oct 2019   Prob (F-statistic):               0.00\n",
      "Time:                        17:51:29   Log-Likelihood:            -1.0593e+05\n",
      "No. Observations:               22634   AIC:                         2.119e+05\n",
      "Df Residuals:                   22632   BIC:                         2.119e+05\n",
      "Df Model:                           1                                         \n",
      "Covariance Type:            nonrobust                                         \n",
      "==============================================================================\n",
      "                 coef    std err          t      P>|t|      [0.025      0.975]\n",
      "------------------------------------------------------------------------------\n",
      "Intercept     -0.7251      0.476     -1.523      0.128      -1.658       0.208\n",
      "AF             1.3181      0.003    486.009      0.000       1.313       1.323\n",
      "==============================================================================\n",
      "Omnibus:                      924.182   Durbin-Watson:                   1.993\n",
      "Prob(Omnibus):                  0.000   Jarque-Bera (JB):             3019.950\n",
      "Skew:                           0.012   Prob(JB):                         0.00\n",
      "Kurtosis:                       4.789   Cond. No.                         482.\n",
      "==============================================================================\n",
      "\n",
      "Warnings:\n",
      "[1] Standard Errors assume that the covariance matrix of the errors is correctly specified.\n"
     ]
    }
   ],
   "source": [
    "ols_df_80pct = smf.ols('Total_AR ~ AF', data = df_80pct).fit()\n",
    "print(ols_df_80pct.summary())"
   ]
  },
  {
   "cell_type": "markdown",
   "metadata": {},
   "source": [
    "# The AF variable makes the model way stronger than the OTR variable itself, with the R-Squared off 0.913."
   ]
  },
  {
   "cell_type": "markdown",
   "metadata": {},
   "source": [
    "If we combine all three variables in one model, the model is stronger a little bit with R-Squared of 0.937"
   ]
  },
  {
   "cell_type": "code",
   "execution_count": 116,
   "metadata": {},
   "outputs": [
    {
     "name": "stdout",
     "output_type": "stream",
     "text": [
      "                            OLS Regression Results                            \n",
      "==============================================================================\n",
      "Dep. Variable:               Total_AR   R-squared:                       0.937\n",
      "Model:                            OLS   Adj. R-squared:                  0.937\n",
      "Method:                 Least Squares   F-statistic:                 1.118e+05\n",
      "Date:                Fri, 25 Oct 2019   Prob (F-statistic):               0.00\n",
      "Time:                        17:54:34   Log-Likelihood:            -1.0226e+05\n",
      "No. Observations:               22634   AIC:                         2.045e+05\n",
      "Df Residuals:                   22630   BIC:                         2.046e+05\n",
      "Df Model:                           3                                         \n",
      "Covariance Type:            nonrobust                                         \n",
      "==============================================================================\n",
      "                 coef    std err          t      P>|t|      [0.025      0.975]\n",
      "------------------------------------------------------------------------------\n",
      "Intercept     20.1117      0.609     33.044      0.000      18.919      21.305\n",
      "ln_income     -5.5420      0.220    -25.184      0.000      -5.973      -5.111\n",
      "OTR           -0.2956      0.004    -82.374      0.000      -0.303      -0.289\n",
      "AF             1.6493      0.004    376.382      0.000       1.641       1.658\n",
      "==============================================================================\n",
      "Omnibus:                     1199.035   Durbin-Watson:                   2.005\n",
      "Prob(Omnibus):                  0.000   Jarque-Bera (JB):             2660.922\n",
      "Skew:                           0.349   Prob(JB):                         0.00\n",
      "Kurtosis:                       4.528   Cond. No.                     1.20e+03\n",
      "==============================================================================\n",
      "\n",
      "Warnings:\n",
      "[1] Standard Errors assume that the covariance matrix of the errors is correctly specified.\n",
      "[2] The condition number is large, 1.2e+03. This might indicate that there are\n",
      "strong multicollinearity or other numerical problems.\n"
     ]
    }
   ],
   "source": [
    "ols_df_80pct = smf.ols('Total_AR ~ ln_income + OTR + AF', data = df_80pct).fit()\n",
    "print(ols_df_80pct.summary())"
   ]
  },
  {
   "cell_type": "markdown",
   "metadata": {},
   "source": [
    "From the quotient above, we get Total_AR = 20.1117 - 5.5420ln_income - 0.2956 OTR + 1.6493AF\n",
    "- If the AF goes up by IDR 1Mio, then the Total_AR will increase by IDR 1.65Mio.\n",
    "- If the ln_income goes up by IDR 1Mio, then the Total_AR will decrease by IDR 5.5Mio.\n",
    "- If the OTR goes up by IDR 1Mio, then the Total_AR will decrease by IDR 295k."
   ]
  },
  {
   "cell_type": "code",
   "execution_count": null,
   "metadata": {},
   "outputs": [],
   "source": []
  }
 ],
 "metadata": {
  "kernelspec": {
   "display_name": "Python 3",
   "language": "python",
   "name": "python3"
  },
  "language_info": {
   "codemirror_mode": {
    "name": "ipython",
    "version": 3
   },
   "file_extension": ".py",
   "mimetype": "text/x-python",
   "name": "python",
   "nbconvert_exporter": "python",
   "pygments_lexer": "ipython3",
   "version": "3.7.4"
  }
 },
 "nbformat": 4,
 "nbformat_minor": 2
}
